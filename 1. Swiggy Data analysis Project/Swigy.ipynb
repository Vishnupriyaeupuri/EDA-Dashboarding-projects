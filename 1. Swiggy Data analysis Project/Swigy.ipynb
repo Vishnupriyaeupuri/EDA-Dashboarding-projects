{
 "cells": [
  {
   "cell_type": "markdown",
   "metadata": {},
   "source": [
    "# 🍔 Swiggy Data Analysis Project\n",
    "-------------------------------------------------------------\n",
    "\n",
    "## 📜 Project Description\n",
    "This project involves analyzing and cleaning the dataset provided by Swiggy. Swiggy is a popular food delivery service in India, and the dataset includes various tables related to food items, menus, orders, order types, restaurants, and users. The goal is to clean the data, format the tables, and store the processed dataset for further analysis.\n",
    "\n",
    "## 📊 Tables and Column Names\n",
    "\n",
    "### 🍲 Food Table\n",
    "- Column Names: `f_id`, `item`, `veg_or_non_veg`\n",
    "\n",
    "### 📋 Menu Table\n",
    "- Column Names: `menu_id`, `r_id`, `f_id`, `Cuisine`, `price`\n",
    "\n",
    "### 📝 Orders Table\n",
    "- Column Names: `order_date`, `sales_qty`, `sales_amount`, `currencty`, `user_id`, `r_id`\n",
    "\n",
    "### 🛍️ Orders Type Table\n",
    "- Column Names: `order_id`, `type`\n",
    "\n",
    "### 🍴 Restaurant Table\n",
    "- Column Names: `id`, `name`, `country`, `city`, `rating`, `rating_count`, `cuisine`, `link`, `address`\n",
    "\n",
    "### 👥 Users Table\n",
    "- Column Names: `user_id`, `name`, `age`, `gender`, `marital_status`, `occupation`\n",
    "\n",
    "## 📝 Agenda\n",
    "1. **🧹 Data Cleaning**\n",
    "   - Handle null values in all tables.\n",
    "   - Re-analyze and ensure all null values are correctly handled.\n",
    "\n",
    "2. **🛠️ Data Formatting**\n",
    "   - Change column names to be more descriptive and suitable.\n",
    "   - Drop unnecessary columns that do not contribute to the analysis.\n",
    "   - Drop unnecessary tables that are not required for further analysis.\n",
    "\n",
    "3. **💾 Store Processed Data**\n",
    "   - Save the cleaned and formatted dataset into the system for further analysis and visualization.\n",
    "\n",
    "## 📊 Data Overview\n",
    "- The dataset consists of 5 tables: Food, Menu, Orders, Orders Type, Restaurant, and Users.\n",
    "- The data includes information for 100,000 users.\n",
    "- The Menu table has a row count of 5.2 million.\n",
    "\n",
    "## 🧼 Data Cleaning Steps\n",
    "- Identify and handle null values in each table.\n",
    "- Ensure that no critical data is lost in the process.\n",
    "\n",
    "## 🛠️ Data Formatting Steps\n",
    "- Change column names to be more intuitive and user-friendly.\n",
    "- Remove columns that are deemed unnecessary for the analysis.\n",
    "- Remove tables that do not add value to the analysis.\n",
    "\n",
    "## 💾 Storing Cleaned Data\n",
    "- After cleaning and formatting, store the processed data back into the system for further use."
   ]
  },
  {
   "cell_type": "code",
   "execution_count": 1,
   "metadata": {},
   "outputs": [],
   "source": [
    "# Import the Important Libraries.\n",
    "import pandas as pd\n",
    "import numpy as np\n",
    "import matplotlib.pyplot as plt\n",
    "%matplotlib inline\n",
    "import seaborn as sns\n",
    "import plotly.express as px\n",
    "import scipy.stats as st "
   ]
  },
  {
   "cell_type": "code",
   "execution_count": 2,
   "metadata": {},
   "outputs": [],
   "source": [
    "# Store all the Data in the Pandas DataFrame.\n",
    "Food = pd.read_excel(r\"D:\\DA\\Projects\\Swiggy\\Raw Dataset\\food.xlsx\")\n",
    "Menu = pd.read_excel(r\"D:\\DA\\Projects\\Swiggy\\Raw Dataset\\menu.xlsx\")\n",
    "Orders = pd.read_excel(r\"D:\\DA\\Projects\\Swiggy\\Raw Dataset\\orders.xlsx\")\n",
    "Orders_Type = pd.read_excel(r\"D:\\DA\\Projects\\Swiggy\\Raw Dataset\\orders_type.xlsx\")\n",
    "Restaurant = pd.read_excel(r\"D:\\DA\\Projects\\Swiggy\\Raw Dataset\\restaurant.xlsx\")\n",
    "Users = pd.read_excel(r\"D:\\DA\\Projects\\Swiggy\\Raw Dataset\\users.xlsx\")\n"
   ]
  },
  {
   "cell_type": "markdown",
   "metadata": {},
   "source": [
    "# Initial Data Exploration"
   ]
  },
  {
   "cell_type": "code",
   "execution_count": 3,
   "metadata": {},
   "outputs": [
    {
     "data": {
      "text/html": [
       "<div>\n",
       "<style scoped>\n",
       "    .dataframe tbody tr th:only-of-type {\n",
       "        vertical-align: middle;\n",
       "    }\n",
       "\n",
       "    .dataframe tbody tr th {\n",
       "        vertical-align: top;\n",
       "    }\n",
       "\n",
       "    .dataframe thead th {\n",
       "        text-align: right;\n",
       "    }\n",
       "</style>\n",
       "<table border=\"1\" class=\"dataframe\">\n",
       "  <thead>\n",
       "    <tr style=\"text-align: right;\">\n",
       "      <th></th>\n",
       "      <th>f_id</th>\n",
       "      <th>item</th>\n",
       "      <th>veg_or_non_veg</th>\n",
       "    </tr>\n",
       "  </thead>\n",
       "  <tbody>\n",
       "    <tr>\n",
       "      <th>0</th>\n",
       "      <td>fd0</td>\n",
       "      <td>Aloo Tikki Burger</td>\n",
       "      <td>Veg</td>\n",
       "    </tr>\n",
       "    <tr>\n",
       "      <th>1</th>\n",
       "      <td>fd1</td>\n",
       "      <td>Veg Creamy Burger</td>\n",
       "      <td>Veg</td>\n",
       "    </tr>\n",
       "    <tr>\n",
       "      <th>2</th>\n",
       "      <td>fd2</td>\n",
       "      <td>Cheese Burst Burger</td>\n",
       "      <td>Veg</td>\n",
       "    </tr>\n",
       "    <tr>\n",
       "      <th>3</th>\n",
       "      <td>fd3</td>\n",
       "      <td>Paneer Creamy Burger</td>\n",
       "      <td>Veg</td>\n",
       "    </tr>\n",
       "    <tr>\n",
       "      <th>4</th>\n",
       "      <td>fd4</td>\n",
       "      <td>Maxican Burger</td>\n",
       "      <td>Veg</td>\n",
       "    </tr>\n",
       "  </tbody>\n",
       "</table>\n",
       "</div>"
      ],
      "text/plain": [
       "  f_id                  item veg_or_non_veg\n",
       "0  fd0     Aloo Tikki Burger            Veg\n",
       "1  fd1     Veg Creamy Burger            Veg\n",
       "2  fd2   Cheese Burst Burger            Veg\n",
       "3  fd3  Paneer Creamy Burger            Veg\n",
       "4  fd4        Maxican Burger            Veg"
      ]
     },
     "execution_count": 3,
     "metadata": {},
     "output_type": "execute_result"
    }
   ],
   "source": [
    "# Print the first 5 rows.\n",
    "Food.head()"
   ]
  },
  {
   "cell_type": "code",
   "execution_count": 4,
   "metadata": {},
   "outputs": [
    {
     "data": {
      "text/html": [
       "<div>\n",
       "<style scoped>\n",
       "    .dataframe tbody tr th:only-of-type {\n",
       "        vertical-align: middle;\n",
       "    }\n",
       "\n",
       "    .dataframe tbody tr th {\n",
       "        vertical-align: top;\n",
       "    }\n",
       "\n",
       "    .dataframe thead th {\n",
       "        text-align: right;\n",
       "    }\n",
       "</style>\n",
       "<table border=\"1\" class=\"dataframe\">\n",
       "  <thead>\n",
       "    <tr style=\"text-align: right;\">\n",
       "      <th></th>\n",
       "      <th>menu_id</th>\n",
       "      <th>r_id</th>\n",
       "      <th>f_id</th>\n",
       "      <th>cuisine</th>\n",
       "      <th>price</th>\n",
       "    </tr>\n",
       "  </thead>\n",
       "  <tbody>\n",
       "    <tr>\n",
       "      <th>0</th>\n",
       "      <td>mn0</td>\n",
       "      <td>567335</td>\n",
       "      <td>fd0</td>\n",
       "      <td>Beverages,Pizzas</td>\n",
       "      <td>40.0</td>\n",
       "    </tr>\n",
       "    <tr>\n",
       "      <th>1</th>\n",
       "      <td>mn0</td>\n",
       "      <td>567335</td>\n",
       "      <td>fd669322</td>\n",
       "      <td>Beverages,Pizzas</td>\n",
       "      <td>40.0</td>\n",
       "    </tr>\n",
       "    <tr>\n",
       "      <th>2</th>\n",
       "      <td>mn328</td>\n",
       "      <td>158203</td>\n",
       "      <td>fd0</td>\n",
       "      <td>Beverages</td>\n",
       "      <td>65.0</td>\n",
       "    </tr>\n",
       "    <tr>\n",
       "      <th>3</th>\n",
       "      <td>mn328</td>\n",
       "      <td>158203</td>\n",
       "      <td>fd669322</td>\n",
       "      <td>Beverages</td>\n",
       "      <td>65.0</td>\n",
       "    </tr>\n",
       "    <tr>\n",
       "      <th>4</th>\n",
       "      <td>mn449</td>\n",
       "      <td>158203</td>\n",
       "      <td>fd0</td>\n",
       "      <td>Beverages</td>\n",
       "      <td>65.0</td>\n",
       "    </tr>\n",
       "  </tbody>\n",
       "</table>\n",
       "</div>"
      ],
      "text/plain": [
       "  menu_id    r_id      f_id           cuisine  price\n",
       "0     mn0  567335       fd0  Beverages,Pizzas   40.0\n",
       "1     mn0  567335  fd669322  Beverages,Pizzas   40.0\n",
       "2   mn328  158203       fd0         Beverages   65.0\n",
       "3   mn328  158203  fd669322         Beverages   65.0\n",
       "4   mn449  158203       fd0         Beverages   65.0"
      ]
     },
     "execution_count": 4,
     "metadata": {},
     "output_type": "execute_result"
    }
   ],
   "source": [
    "# Print the first 5 rows.\n",
    "Menu.head()"
   ]
  },
  {
   "cell_type": "code",
   "execution_count": 5,
   "metadata": {},
   "outputs": [
    {
     "data": {
      "text/html": [
       "<div>\n",
       "<style scoped>\n",
       "    .dataframe tbody tr th:only-of-type {\n",
       "        vertical-align: middle;\n",
       "    }\n",
       "\n",
       "    .dataframe tbody tr th {\n",
       "        vertical-align: top;\n",
       "    }\n",
       "\n",
       "    .dataframe thead th {\n",
       "        text-align: right;\n",
       "    }\n",
       "</style>\n",
       "<table border=\"1\" class=\"dataframe\">\n",
       "  <thead>\n",
       "    <tr style=\"text-align: right;\">\n",
       "      <th></th>\n",
       "      <th>order_date</th>\n",
       "      <th>sales_qty</th>\n",
       "      <th>sales_amount</th>\n",
       "      <th>currency</th>\n",
       "      <th>user_id</th>\n",
       "      <th>r_id</th>\n",
       "    </tr>\n",
       "  </thead>\n",
       "  <tbody>\n",
       "    <tr>\n",
       "      <th>0</th>\n",
       "      <td>2017-10-10</td>\n",
       "      <td>100</td>\n",
       "      <td>41241</td>\n",
       "      <td>INR</td>\n",
       "      <td>49226</td>\n",
       "      <td>567335.0</td>\n",
       "    </tr>\n",
       "    <tr>\n",
       "      <th>1</th>\n",
       "      <td>2018-05-08</td>\n",
       "      <td>3</td>\n",
       "      <td>-1</td>\n",
       "      <td>INR</td>\n",
       "      <td>77359</td>\n",
       "      <td>531342.0</td>\n",
       "    </tr>\n",
       "    <tr>\n",
       "      <th>2</th>\n",
       "      <td>2018-04-06</td>\n",
       "      <td>1</td>\n",
       "      <td>875</td>\n",
       "      <td>INR</td>\n",
       "      <td>5321</td>\n",
       "      <td>158203.0</td>\n",
       "    </tr>\n",
       "    <tr>\n",
       "      <th>3</th>\n",
       "      <td>2018-04-11</td>\n",
       "      <td>1</td>\n",
       "      <td>583</td>\n",
       "      <td>INR</td>\n",
       "      <td>21343</td>\n",
       "      <td>187912.0</td>\n",
       "    </tr>\n",
       "    <tr>\n",
       "      <th>4</th>\n",
       "      <td>2018-06-18</td>\n",
       "      <td>6</td>\n",
       "      <td>7176</td>\n",
       "      <td>INR</td>\n",
       "      <td>75378</td>\n",
       "      <td>543530.0</td>\n",
       "    </tr>\n",
       "  </tbody>\n",
       "</table>\n",
       "</div>"
      ],
      "text/plain": [
       "  order_date  sales_qty  sales_amount currency  user_id      r_id\n",
       "0 2017-10-10        100         41241      INR    49226  567335.0\n",
       "1 2018-05-08          3            -1      INR    77359  531342.0\n",
       "2 2018-04-06          1           875      INR     5321  158203.0\n",
       "3 2018-04-11          1           583      INR    21343  187912.0\n",
       "4 2018-06-18          6          7176      INR    75378  543530.0"
      ]
     },
     "execution_count": 5,
     "metadata": {},
     "output_type": "execute_result"
    }
   ],
   "source": [
    "# Print the first 5 rows.\n",
    "Orders.head()"
   ]
  },
  {
   "cell_type": "code",
   "execution_count": 6,
   "metadata": {},
   "outputs": [
    {
     "data": {
      "text/html": [
       "<div>\n",
       "<style scoped>\n",
       "    .dataframe tbody tr th:only-of-type {\n",
       "        vertical-align: middle;\n",
       "    }\n",
       "\n",
       "    .dataframe tbody tr th {\n",
       "        vertical-align: top;\n",
       "    }\n",
       "\n",
       "    .dataframe thead th {\n",
       "        text-align: right;\n",
       "    }\n",
       "</style>\n",
       "<table border=\"1\" class=\"dataframe\">\n",
       "  <thead>\n",
       "    <tr style=\"text-align: right;\">\n",
       "      <th></th>\n",
       "      <th>Order_Id</th>\n",
       "      <th>Type</th>\n",
       "    </tr>\n",
       "  </thead>\n",
       "  <tbody>\n",
       "    <tr>\n",
       "      <th>0</th>\n",
       "      <td>B496840219</td>\n",
       "      <td>Non-Veg</td>\n",
       "    </tr>\n",
       "    <tr>\n",
       "      <th>1</th>\n",
       "      <td>C134461623</td>\n",
       "      <td>Other</td>\n",
       "    </tr>\n",
       "    <tr>\n",
       "      <th>2</th>\n",
       "      <td>D679770099</td>\n",
       "      <td>Other</td>\n",
       "    </tr>\n",
       "    <tr>\n",
       "      <th>3</th>\n",
       "      <td>E622201871</td>\n",
       "      <td>Veg</td>\n",
       "    </tr>\n",
       "    <tr>\n",
       "      <th>4</th>\n",
       "      <td>A980473889</td>\n",
       "      <td>Non-Veg</td>\n",
       "    </tr>\n",
       "  </tbody>\n",
       "</table>\n",
       "</div>"
      ],
      "text/plain": [
       "     Order_Id     Type\n",
       "0  B496840219  Non-Veg\n",
       "1  C134461623    Other\n",
       "2  D679770099    Other\n",
       "3  E622201871      Veg\n",
       "4  A980473889  Non-Veg"
      ]
     },
     "execution_count": 6,
     "metadata": {},
     "output_type": "execute_result"
    }
   ],
   "source": [
    "# Print the first 5 rows.\n",
    "Orders_Type.head()"
   ]
  },
  {
   "cell_type": "code",
   "execution_count": 47,
   "metadata": {},
   "outputs": [
    {
     "data": {
      "text/html": [
       "<div>\n",
       "<style scoped>\n",
       "    .dataframe tbody tr th:only-of-type {\n",
       "        vertical-align: middle;\n",
       "    }\n",
       "\n",
       "    .dataframe tbody tr th {\n",
       "        vertical-align: top;\n",
       "    }\n",
       "\n",
       "    .dataframe thead th {\n",
       "        text-align: right;\n",
       "    }\n",
       "</style>\n",
       "<table border=\"1\" class=\"dataframe\">\n",
       "  <thead>\n",
       "    <tr style=\"text-align: right;\">\n",
       "      <th></th>\n",
       "      <th>id</th>\n",
       "      <th>name</th>\n",
       "      <th>Country</th>\n",
       "      <th>city</th>\n",
       "      <th>rating</th>\n",
       "      <th>rating_count</th>\n",
       "      <th>cuisine</th>\n",
       "      <th>link</th>\n",
       "      <th>address</th>\n",
       "    </tr>\n",
       "  </thead>\n",
       "  <tbody>\n",
       "    <tr>\n",
       "      <th>0</th>\n",
       "      <td>567335</td>\n",
       "      <td>AB FOODS POINT</td>\n",
       "      <td>India</td>\n",
       "      <td>Abohar</td>\n",
       "      <td>--</td>\n",
       "      <td>Too Few Ratings</td>\n",
       "      <td>Beverages,Pizzas</td>\n",
       "      <td>https://www.swiggy.com/restaurants/ab-foods-po...</td>\n",
       "      <td>AB FOODS POINT, NEAR RISHI NARANG DENTAL CLINI...</td>\n",
       "    </tr>\n",
       "    <tr>\n",
       "      <th>1</th>\n",
       "      <td>531342</td>\n",
       "      <td>Janta Sweet House</td>\n",
       "      <td>India</td>\n",
       "      <td>Abohar</td>\n",
       "      <td>4.4</td>\n",
       "      <td>50+ ratings</td>\n",
       "      <td>Sweets,Bakery</td>\n",
       "      <td>https://www.swiggy.com/restaurants/janta-sweet...</td>\n",
       "      <td>Janta Sweet House, Bazar No.9, Circullar Road,...</td>\n",
       "    </tr>\n",
       "    <tr>\n",
       "      <th>2</th>\n",
       "      <td>158203</td>\n",
       "      <td>theka coffee desi</td>\n",
       "      <td>India</td>\n",
       "      <td>Abohar</td>\n",
       "      <td>3.8</td>\n",
       "      <td>100+ ratings</td>\n",
       "      <td>Beverages</td>\n",
       "      <td>https://www.swiggy.com/restaurants/theka-coffe...</td>\n",
       "      <td>theka coffee desi, sahtiya sadan road city</td>\n",
       "    </tr>\n",
       "    <tr>\n",
       "      <th>3</th>\n",
       "      <td>187912</td>\n",
       "      <td>Singh Hut</td>\n",
       "      <td>India</td>\n",
       "      <td>Abohar</td>\n",
       "      <td>3.7</td>\n",
       "      <td>20+ ratings</td>\n",
       "      <td>Fast Food,Indian</td>\n",
       "      <td>https://www.swiggy.com/restaurants/singh-hut-n...</td>\n",
       "      <td>Singh Hut, CIRCULAR ROAD NEAR NEHRU PARK ABOHAR</td>\n",
       "    </tr>\n",
       "    <tr>\n",
       "      <th>4</th>\n",
       "      <td>543530</td>\n",
       "      <td>GRILL MASTERS</td>\n",
       "      <td>India</td>\n",
       "      <td>Abohar</td>\n",
       "      <td>--</td>\n",
       "      <td>Too Few Ratings</td>\n",
       "      <td>Italian-American,Fast Food</td>\n",
       "      <td>https://www.swiggy.com/restaurants/grill-maste...</td>\n",
       "      <td>GRILL MASTERS, ADA Heights, Abohar - Hanumanga...</td>\n",
       "    </tr>\n",
       "  </tbody>\n",
       "</table>\n",
       "</div>"
      ],
      "text/plain": [
       "       id               name Country    city rating     rating_count  \\\n",
       "0  567335     AB FOODS POINT   India  Abohar     --  Too Few Ratings   \n",
       "1  531342  Janta Sweet House   India  Abohar    4.4      50+ ratings   \n",
       "2  158203  theka coffee desi   India  Abohar    3.8     100+ ratings   \n",
       "3  187912          Singh Hut   India  Abohar    3.7      20+ ratings   \n",
       "4  543530      GRILL MASTERS   India  Abohar     --  Too Few Ratings   \n",
       "\n",
       "                      cuisine  \\\n",
       "0            Beverages,Pizzas   \n",
       "1               Sweets,Bakery   \n",
       "2                   Beverages   \n",
       "3            Fast Food,Indian   \n",
       "4  Italian-American,Fast Food   \n",
       "\n",
       "                                                link  \\\n",
       "0  https://www.swiggy.com/restaurants/ab-foods-po...   \n",
       "1  https://www.swiggy.com/restaurants/janta-sweet...   \n",
       "2  https://www.swiggy.com/restaurants/theka-coffe...   \n",
       "3  https://www.swiggy.com/restaurants/singh-hut-n...   \n",
       "4  https://www.swiggy.com/restaurants/grill-maste...   \n",
       "\n",
       "                                             address  \n",
       "0  AB FOODS POINT, NEAR RISHI NARANG DENTAL CLINI...  \n",
       "1  Janta Sweet House, Bazar No.9, Circullar Road,...  \n",
       "2         theka coffee desi, sahtiya sadan road city  \n",
       "3    Singh Hut, CIRCULAR ROAD NEAR NEHRU PARK ABOHAR  \n",
       "4  GRILL MASTERS, ADA Heights, Abohar - Hanumanga...  "
      ]
     },
     "execution_count": 47,
     "metadata": {},
     "output_type": "execute_result"
    }
   ],
   "source": [
    "# Print the first 5 rows.\n",
    "Restaurant.head()"
   ]
  },
  {
   "cell_type": "code",
   "execution_count": 48,
   "metadata": {},
   "outputs": [
    {
     "data": {
      "text/html": [
       "<div>\n",
       "<style scoped>\n",
       "    .dataframe tbody tr th:only-of-type {\n",
       "        vertical-align: middle;\n",
       "    }\n",
       "\n",
       "    .dataframe tbody tr th {\n",
       "        vertical-align: top;\n",
       "    }\n",
       "\n",
       "    .dataframe thead th {\n",
       "        text-align: right;\n",
       "    }\n",
       "</style>\n",
       "<table border=\"1\" class=\"dataframe\">\n",
       "  <thead>\n",
       "    <tr style=\"text-align: right;\">\n",
       "      <th></th>\n",
       "      <th>user_id</th>\n",
       "      <th>name</th>\n",
       "      <th>Age</th>\n",
       "      <th>Gender</th>\n",
       "      <th>Marital Status</th>\n",
       "      <th>Occupation</th>\n",
       "    </tr>\n",
       "  </thead>\n",
       "  <tbody>\n",
       "    <tr>\n",
       "      <th>0</th>\n",
       "      <td>1</td>\n",
       "      <td>Claire Ferguson</td>\n",
       "      <td>20</td>\n",
       "      <td>Female</td>\n",
       "      <td>Single</td>\n",
       "      <td>Student</td>\n",
       "    </tr>\n",
       "    <tr>\n",
       "      <th>1</th>\n",
       "      <td>2</td>\n",
       "      <td>Jennifer Young</td>\n",
       "      <td>24</td>\n",
       "      <td>Female</td>\n",
       "      <td>Single</td>\n",
       "      <td>Student</td>\n",
       "    </tr>\n",
       "    <tr>\n",
       "      <th>2</th>\n",
       "      <td>3</td>\n",
       "      <td>Jermaine Roberson</td>\n",
       "      <td>22</td>\n",
       "      <td>Male</td>\n",
       "      <td>Single</td>\n",
       "      <td>Student</td>\n",
       "    </tr>\n",
       "    <tr>\n",
       "      <th>3</th>\n",
       "      <td>4</td>\n",
       "      <td>Rachel Carpenter</td>\n",
       "      <td>22</td>\n",
       "      <td>Female</td>\n",
       "      <td>Single</td>\n",
       "      <td>Student</td>\n",
       "    </tr>\n",
       "    <tr>\n",
       "      <th>4</th>\n",
       "      <td>5</td>\n",
       "      <td>Shawn Parker</td>\n",
       "      <td>22</td>\n",
       "      <td>Male</td>\n",
       "      <td>Single</td>\n",
       "      <td>Student</td>\n",
       "    </tr>\n",
       "  </tbody>\n",
       "</table>\n",
       "</div>"
      ],
      "text/plain": [
       "   user_id               name  Age  Gender Marital Status Occupation\n",
       "0        1    Claire Ferguson   20  Female         Single    Student\n",
       "1        2     Jennifer Young   24  Female         Single    Student\n",
       "2        3  Jermaine Roberson   22    Male         Single    Student\n",
       "3        4   Rachel Carpenter   22  Female         Single    Student\n",
       "4        5       Shawn Parker   22    Male         Single    Student"
      ]
     },
     "execution_count": 48,
     "metadata": {},
     "output_type": "execute_result"
    }
   ],
   "source": [
    "# Print the first 5 rows.\n",
    "Users.head()"
   ]
  },
  {
   "cell_type": "code",
   "execution_count": 9,
   "metadata": {},
   "outputs": [
    {
     "name": "stdout",
     "output_type": "stream",
     "text": [
      "f_id              object\n",
      "item              object\n",
      "veg_or_non_veg    object\n",
      "dtype: object \n",
      "\n",
      "menu_id     object\n",
      "r_id         int64\n",
      "f_id        object\n",
      "cuisine     object\n",
      "price      float64\n",
      "dtype: object \n",
      "\n",
      "order_date      datetime64[ns]\n",
      "sales_qty                int64\n",
      "sales_amount             int64\n",
      "currency                object\n",
      "user_id                  int64\n",
      "r_id                   float64\n",
      "dtype: object \n",
      "\n",
      "Order_Id    object\n",
      "Type        object\n",
      "dtype: object \n",
      "\n",
      "id               int64\n",
      "name            object\n",
      "Country         object\n",
      "city            object\n",
      "rating          object\n",
      "rating_count    object\n",
      "cuisine         object\n",
      "link            object\n",
      "address         object\n",
      "dtype: object \n",
      "\n",
      "user_id            int64\n",
      "name              object\n",
      "Age                int64\n",
      "Gender            object\n",
      "Marital Status    object\n",
      "Occupation        object\n",
      "dtype: object \n",
      "\n"
     ]
    }
   ],
   "source": [
    "# Analyse the Datatypes of Each Table.\n",
    "Datasets = [Food, Menu, Orders, Orders_Type, Restaurant, Users]\n",
    "for i in Datasets:\n",
    "    print(i.dtypes, \"\\n\")\n",
    "#All Datatypes are Correct."
   ]
  },
  {
   "cell_type": "markdown",
   "metadata": {},
   "source": [
    "# Check and Handle the Null Values"
   ]
  },
  {
   "cell_type": "code",
   "execution_count": 13,
   "metadata": {},
   "outputs": [
    {
     "data": {
      "text/plain": [
       "f_id              8\n",
       "item              8\n",
       "veg_or_non_veg    8\n",
       "dtype: int64"
      ]
     },
     "execution_count": 13,
     "metadata": {},
     "output_type": "execute_result"
    }
   ],
   "source": [
    "# Check the Null Values from the Food Table.\n",
    "Food.isnull().sum()"
   ]
  },
  {
   "cell_type": "code",
   "execution_count": null,
   "metadata": {},
   "outputs": [],
   "source": [
    "# There are 8 Null Values in Each Column of Food Table.\n",
    "# All Null Values might Belong to the Same Row."
   ]
  },
  {
   "cell_type": "code",
   "execution_count": 14,
   "metadata": {},
   "outputs": [
    {
     "data": {
      "text/html": [
       "<div>\n",
       "<style scoped>\n",
       "    .dataframe tbody tr th:only-of-type {\n",
       "        vertical-align: middle;\n",
       "    }\n",
       "\n",
       "    .dataframe tbody tr th {\n",
       "        vertical-align: top;\n",
       "    }\n",
       "\n",
       "    .dataframe thead th {\n",
       "        text-align: right;\n",
       "    }\n",
       "</style>\n",
       "<table border=\"1\" class=\"dataframe\">\n",
       "  <thead>\n",
       "    <tr style=\"text-align: right;\">\n",
       "      <th></th>\n",
       "      <th>f_id</th>\n",
       "      <th>item</th>\n",
       "      <th>veg_or_non_veg</th>\n",
       "    </tr>\n",
       "  </thead>\n",
       "  <tbody>\n",
       "    <tr>\n",
       "      <th>13540</th>\n",
       "      <td>NaN</td>\n",
       "      <td>NaN</td>\n",
       "      <td>NaN</td>\n",
       "    </tr>\n",
       "    <tr>\n",
       "      <th>99966</th>\n",
       "      <td>NaN</td>\n",
       "      <td>NaN</td>\n",
       "      <td>NaN</td>\n",
       "    </tr>\n",
       "    <tr>\n",
       "      <th>99988</th>\n",
       "      <td>NaN</td>\n",
       "      <td>NaN</td>\n",
       "      <td>NaN</td>\n",
       "    </tr>\n",
       "    <tr>\n",
       "      <th>99989</th>\n",
       "      <td>NaN</td>\n",
       "      <td>NaN</td>\n",
       "      <td>NaN</td>\n",
       "    </tr>\n",
       "    <tr>\n",
       "      <th>99991</th>\n",
       "      <td>NaN</td>\n",
       "      <td>NaN</td>\n",
       "      <td>NaN</td>\n",
       "    </tr>\n",
       "    <tr>\n",
       "      <th>99993</th>\n",
       "      <td>NaN</td>\n",
       "      <td>NaN</td>\n",
       "      <td>NaN</td>\n",
       "    </tr>\n",
       "    <tr>\n",
       "      <th>99994</th>\n",
       "      <td>NaN</td>\n",
       "      <td>NaN</td>\n",
       "      <td>NaN</td>\n",
       "    </tr>\n",
       "    <tr>\n",
       "      <th>166711</th>\n",
       "      <td>NaN</td>\n",
       "      <td>NaN</td>\n",
       "      <td>NaN</td>\n",
       "    </tr>\n",
       "  </tbody>\n",
       "</table>\n",
       "</div>"
      ],
      "text/plain": [
       "       f_id item veg_or_non_veg\n",
       "13540   NaN  NaN            NaN\n",
       "99966   NaN  NaN            NaN\n",
       "99988   NaN  NaN            NaN\n",
       "99989   NaN  NaN            NaN\n",
       "99991   NaN  NaN            NaN\n",
       "99993   NaN  NaN            NaN\n",
       "99994   NaN  NaN            NaN\n",
       "166711  NaN  NaN            NaN"
      ]
     },
     "execution_count": 14,
     "metadata": {},
     "output_type": "execute_result"
    }
   ],
   "source": [
    "# Print the Null Values.\n",
    "Food[Food[\"f_id\"].isnull()]"
   ]
  },
  {
   "cell_type": "code",
   "execution_count": null,
   "metadata": {},
   "outputs": [],
   "source": [
    "# All 8 rows are null, We can remove these values."
   ]
  },
  {
   "cell_type": "code",
   "execution_count": 15,
   "metadata": {},
   "outputs": [],
   "source": [
    "# Remove the Null Values from the Food Table.\n",
    "Food.dropna(inplace=True)"
   ]
  },
  {
   "cell_type": "code",
   "execution_count": 16,
   "metadata": {},
   "outputs": [
    {
     "data": {
      "text/plain": [
       "f_id              0\n",
       "item              0\n",
       "veg_or_non_veg    0\n",
       "dtype: int64"
      ]
     },
     "execution_count": 16,
     "metadata": {},
     "output_type": "execute_result"
    }
   ],
   "source": [
    "# Check if the null values have been Deleted Correctly or Not.\n",
    "Food.isnull().sum()"
   ]
  },
  {
   "cell_type": "code",
   "execution_count": 17,
   "metadata": {},
   "outputs": [
    {
     "data": {
      "text/plain": [
       "menu_id    0\n",
       "r_id       0\n",
       "f_id       0\n",
       "cuisine    0\n",
       "price      1\n",
       "dtype: int64"
      ]
     },
     "execution_count": 17,
     "metadata": {},
     "output_type": "execute_result"
    }
   ],
   "source": [
    "# Check the Null Values from Menu Table.\n",
    "Menu.isnull().sum()\n"
   ]
  },
  {
   "cell_type": "code",
   "execution_count": null,
   "metadata": {},
   "outputs": [],
   "source": [
    "# There are only 1 Null Value in \"Price\" Column."
   ]
  },
  {
   "cell_type": "code",
   "execution_count": 18,
   "metadata": {},
   "outputs": [
    {
     "data": {
      "text/html": [
       "<div>\n",
       "<style scoped>\n",
       "    .dataframe tbody tr th:only-of-type {\n",
       "        vertical-align: middle;\n",
       "    }\n",
       "\n",
       "    .dataframe tbody tr th {\n",
       "        vertical-align: top;\n",
       "    }\n",
       "\n",
       "    .dataframe thead th {\n",
       "        text-align: right;\n",
       "    }\n",
       "</style>\n",
       "<table border=\"1\" class=\"dataframe\">\n",
       "  <thead>\n",
       "    <tr style=\"text-align: right;\">\n",
       "      <th></th>\n",
       "      <th>menu_id</th>\n",
       "      <th>r_id</th>\n",
       "      <th>f_id</th>\n",
       "      <th>cuisine</th>\n",
       "      <th>price</th>\n",
       "    </tr>\n",
       "  </thead>\n",
       "  <tbody>\n",
       "    <tr>\n",
       "      <th>878051</th>\n",
       "      <td>mn414862</td>\n",
       "      <td>496987</td>\n",
       "      <td>fd413746</td>\n",
       "      <td>South Indian</td>\n",
       "      <td>NaN</td>\n",
       "    </tr>\n",
       "  </tbody>\n",
       "</table>\n",
       "</div>"
      ],
      "text/plain": [
       "         menu_id    r_id      f_id       cuisine  price\n",
       "878051  mn414862  496987  fd413746  South Indian    NaN"
      ]
     },
     "execution_count": 18,
     "metadata": {},
     "output_type": "execute_result"
    }
   ],
   "source": [
    "# Print the row containing Null values.\n",
    "Menu[Menu[\"price\"].isnull()]"
   ]
  },
  {
   "cell_type": "code",
   "execution_count": null,
   "metadata": {},
   "outputs": [],
   "source": [
    "# There are only one Null Value.\n",
    "# We can drop this null values instead of imputing them with noise."
   ]
  },
  {
   "cell_type": "code",
   "execution_count": 19,
   "metadata": {},
   "outputs": [],
   "source": [
    "# Remove the Null Value.\n",
    "Menu.dropna(inplace=True)"
   ]
  },
  {
   "cell_type": "code",
   "execution_count": 20,
   "metadata": {},
   "outputs": [
    {
     "data": {
      "text/plain": [
       "False"
      ]
     },
     "execution_count": 20,
     "metadata": {},
     "output_type": "execute_result"
    }
   ],
   "source": [
    "# Check if the null values have been Deleted Correctly or Not.\n",
    "Menu.isnull().sum().any()"
   ]
  },
  {
   "cell_type": "code",
   "execution_count": 21,
   "metadata": {},
   "outputs": [
    {
     "data": {
      "text/plain": [
       "order_date         0\n",
       "sales_qty          0\n",
       "sales_amount       0\n",
       "currency           0\n",
       "user_id            0\n",
       "r_id            1617\n",
       "dtype: int64"
      ]
     },
     "execution_count": 21,
     "metadata": {},
     "output_type": "execute_result"
    }
   ],
   "source": [
    "# Check the Null Values from the Orders Table.\n",
    "Orders.isnull().sum()"
   ]
  },
  {
   "cell_type": "code",
   "execution_count": null,
   "metadata": {},
   "outputs": [],
   "source": []
  },
  {
   "cell_type": "code",
   "execution_count": 22,
   "metadata": {},
   "outputs": [
    {
     "data": {
      "text/plain": [
       "1617"
      ]
     },
     "execution_count": 22,
     "metadata": {},
     "output_type": "execute_result"
    }
   ],
   "source": [
    "# Count the Null Values.\n",
    "Cnt_Null_Orders = Orders[\"r_id\"].isnull().sum()\n",
    "Cnt_Null_Orders"
   ]
  },
  {
   "cell_type": "code",
   "execution_count": 23,
   "metadata": {},
   "outputs": [
    {
     "data": {
      "text/plain": [
       "1.0759843227021382"
      ]
     },
     "execution_count": 23,
     "metadata": {},
     "output_type": "execute_result"
    }
   ],
   "source": [
    "# Calculate the Percentage of Null Values.\n",
    "Null_Value_Per = (Cnt_Null_Orders / len(Orders) ) * 100\n",
    "Null_Value_Per"
   ]
  },
  {
   "cell_type": "code",
   "execution_count": null,
   "metadata": {},
   "outputs": [],
   "source": [
    "# 1.07 Percent of data is null in orders table."
   ]
  },
  {
   "cell_type": "code",
   "execution_count": 24,
   "metadata": {},
   "outputs": [
    {
     "data": {
      "text/html": [
       "<div>\n",
       "<style scoped>\n",
       "    .dataframe tbody tr th:only-of-type {\n",
       "        vertical-align: middle;\n",
       "    }\n",
       "\n",
       "    .dataframe tbody tr th {\n",
       "        vertical-align: top;\n",
       "    }\n",
       "\n",
       "    .dataframe thead th {\n",
       "        text-align: right;\n",
       "    }\n",
       "</style>\n",
       "<table border=\"1\" class=\"dataframe\">\n",
       "  <thead>\n",
       "    <tr style=\"text-align: right;\">\n",
       "      <th></th>\n",
       "      <th>order_date</th>\n",
       "      <th>sales_qty</th>\n",
       "      <th>sales_amount</th>\n",
       "      <th>currency</th>\n",
       "      <th>user_id</th>\n",
       "      <th>r_id</th>\n",
       "    </tr>\n",
       "  </thead>\n",
       "  <tbody>\n",
       "    <tr>\n",
       "      <th>148664</th>\n",
       "      <td>2019-03-19</td>\n",
       "      <td>1</td>\n",
       "      <td>1625</td>\n",
       "      <td>INR</td>\n",
       "      <td>50862</td>\n",
       "      <td>NaN</td>\n",
       "    </tr>\n",
       "    <tr>\n",
       "      <th>148665</th>\n",
       "      <td>2019-03-19</td>\n",
       "      <td>1</td>\n",
       "      <td>1741</td>\n",
       "      <td>INR</td>\n",
       "      <td>25120</td>\n",
       "      <td>NaN</td>\n",
       "    </tr>\n",
       "    <tr>\n",
       "      <th>148666</th>\n",
       "      <td>2019-03-20</td>\n",
       "      <td>1</td>\n",
       "      <td>1463</td>\n",
       "      <td>INR</td>\n",
       "      <td>84260</td>\n",
       "      <td>NaN</td>\n",
       "    </tr>\n",
       "    <tr>\n",
       "      <th>148667</th>\n",
       "      <td>2019-03-20</td>\n",
       "      <td>1</td>\n",
       "      <td>2949</td>\n",
       "      <td>INR</td>\n",
       "      <td>14329</td>\n",
       "      <td>NaN</td>\n",
       "    </tr>\n",
       "    <tr>\n",
       "      <th>148668</th>\n",
       "      <td>2019-03-21</td>\n",
       "      <td>1</td>\n",
       "      <td>1241</td>\n",
       "      <td>INR</td>\n",
       "      <td>38858</td>\n",
       "      <td>NaN</td>\n",
       "    </tr>\n",
       "  </tbody>\n",
       "</table>\n",
       "</div>"
      ],
      "text/plain": [
       "       order_date  sales_qty  sales_amount currency  user_id  r_id\n",
       "148664 2019-03-19          1          1625      INR    50862   NaN\n",
       "148665 2019-03-19          1          1741      INR    25120   NaN\n",
       "148666 2019-03-20          1          1463      INR    84260   NaN\n",
       "148667 2019-03-20          1          2949      INR    14329   NaN\n",
       "148668 2019-03-21          1          1241      INR    38858   NaN"
      ]
     },
     "execution_count": 24,
     "metadata": {},
     "output_type": "execute_result"
    }
   ],
   "source": [
    "# Print the Rows That have Null Values.\n",
    "Orders[Orders[\"r_id\"].isnull()].head()"
   ]
  },
  {
   "cell_type": "code",
   "execution_count": 25,
   "metadata": {},
   "outputs": [],
   "source": [
    "# We can't lose the 1% of data because the other columns' data is important.\n",
    "# We can handle it in Power BI.\n",
    "# We will use a filter to hide the blank values from the visualization."
   ]
  },
  {
   "cell_type": "code",
   "execution_count": 26,
   "metadata": {},
   "outputs": [
    {
     "data": {
      "text/plain": [
       "id               0\n",
       "name            86\n",
       "Country          0\n",
       "city             0\n",
       "rating          86\n",
       "rating_count    86\n",
       "cuisine         99\n",
       "link             0\n",
       "address         86\n",
       "dtype: int64"
      ]
     },
     "execution_count": 26,
     "metadata": {},
     "output_type": "execute_result"
    }
   ],
   "source": [
    "# Analyse the Null Values in Restaurant Table.\n",
    "Restaurant.isnull().sum()"
   ]
  },
  {
   "cell_type": "code",
   "execution_count": null,
   "metadata": {},
   "outputs": [],
   "source": [
    "# [ \"Name\", \"Rating\", \"Rating Count\", \"Address\" ] Have Same Null Values that is 86.\n",
    "# The 86 Null Values might belong to Same Rows. "
   ]
  },
  {
   "cell_type": "code",
   "execution_count": 27,
   "metadata": {},
   "outputs": [
    {
     "data": {
      "text/html": [
       "<div>\n",
       "<style scoped>\n",
       "    .dataframe tbody tr th:only-of-type {\n",
       "        vertical-align: middle;\n",
       "    }\n",
       "\n",
       "    .dataframe tbody tr th {\n",
       "        vertical-align: top;\n",
       "    }\n",
       "\n",
       "    .dataframe thead th {\n",
       "        text-align: right;\n",
       "    }\n",
       "</style>\n",
       "<table border=\"1\" class=\"dataframe\">\n",
       "  <thead>\n",
       "    <tr style=\"text-align: right;\">\n",
       "      <th></th>\n",
       "      <th>id</th>\n",
       "      <th>name</th>\n",
       "      <th>Country</th>\n",
       "      <th>city</th>\n",
       "      <th>rating</th>\n",
       "      <th>rating_count</th>\n",
       "      <th>cuisine</th>\n",
       "      <th>link</th>\n",
       "      <th>address</th>\n",
       "    </tr>\n",
       "  </thead>\n",
       "  <tbody>\n",
       "    <tr>\n",
       "      <th>31044</th>\n",
       "      <td>397961</td>\n",
       "      <td>NaN</td>\n",
       "      <td>India</td>\n",
       "      <td>Greater Mohali,Chandigarh</td>\n",
       "      <td>NaN</td>\n",
       "      <td>NaN</td>\n",
       "      <td>NaN</td>\n",
       "      <td>https://www.swiggy.com/restaurants/5-tara-grea...</td>\n",
       "      <td>NaN</td>\n",
       "    </tr>\n",
       "    <tr>\n",
       "      <th>32912</th>\n",
       "      <td>308071</td>\n",
       "      <td>NaN</td>\n",
       "      <td>India</td>\n",
       "      <td>West Chd,Chandigarh</td>\n",
       "      <td>NaN</td>\n",
       "      <td>NaN</td>\n",
       "      <td>NaN</td>\n",
       "      <td>https://www.swiggy.com/restaurants/food-under-...</td>\n",
       "      <td>NaN</td>\n",
       "    </tr>\n",
       "    <tr>\n",
       "      <th>33046</th>\n",
       "      <td>308662</td>\n",
       "      <td>NaN</td>\n",
       "      <td>India</td>\n",
       "      <td>West Chd,Chandigarh</td>\n",
       "      <td>NaN</td>\n",
       "      <td>NaN</td>\n",
       "      <td>NaN</td>\n",
       "      <td>https://www.swiggy.com/restaurants/franks-frie...</td>\n",
       "      <td>NaN</td>\n",
       "    </tr>\n",
       "    <tr>\n",
       "      <th>33488</th>\n",
       "      <td>170889</td>\n",
       "      <td>NaN</td>\n",
       "      <td>India</td>\n",
       "      <td>South Chd,Chandigarh</td>\n",
       "      <td>NaN</td>\n",
       "      <td>NaN</td>\n",
       "      <td>NaN</td>\n",
       "      <td>https://www.swiggy.com/restaurants/dhaba-7-pre...</td>\n",
       "      <td>NaN</td>\n",
       "    </tr>\n",
       "    <tr>\n",
       "      <th>36492</th>\n",
       "      <td>390394</td>\n",
       "      <td>NaN</td>\n",
       "      <td>India</td>\n",
       "      <td>George Town,Chennai</td>\n",
       "      <td>NaN</td>\n",
       "      <td>NaN</td>\n",
       "      <td>NaN</td>\n",
       "      <td>https://www.swiggy.com/restaurants/frozen-cafe...</td>\n",
       "      <td>NaN</td>\n",
       "    </tr>\n",
       "  </tbody>\n",
       "</table>\n",
       "</div>"
      ],
      "text/plain": [
       "           id name Country                       city rating rating_count  \\\n",
       "31044  397961  NaN   India  Greater Mohali,Chandigarh    NaN          NaN   \n",
       "32912  308071  NaN   India        West Chd,Chandigarh    NaN          NaN   \n",
       "33046  308662  NaN   India        West Chd,Chandigarh    NaN          NaN   \n",
       "33488  170889  NaN   India       South Chd,Chandigarh    NaN          NaN   \n",
       "36492  390394  NaN   India        George Town,Chennai    NaN          NaN   \n",
       "\n",
       "      cuisine                                               link address  \n",
       "31044     NaN  https://www.swiggy.com/restaurants/5-tara-grea...     NaN  \n",
       "32912     NaN  https://www.swiggy.com/restaurants/food-under-...     NaN  \n",
       "33046     NaN  https://www.swiggy.com/restaurants/franks-frie...     NaN  \n",
       "33488     NaN  https://www.swiggy.com/restaurants/dhaba-7-pre...     NaN  \n",
       "36492     NaN  https://www.swiggy.com/restaurants/frozen-cafe...     NaN  "
      ]
     },
     "execution_count": 27,
     "metadata": {},
     "output_type": "execute_result"
    }
   ],
   "source": [
    "# Print the Null Values\n",
    "Restaurant[Restaurant[\"name\"].isnull()].head()"
   ]
  },
  {
   "cell_type": "code",
   "execution_count": null,
   "metadata": {},
   "outputs": [],
   "source": [
    "# Analyze whether the Null values in the Restaurant Table and the Null Values in the Orders' R_id Column have a relationship or not."
   ]
  },
  {
   "cell_type": "code",
   "execution_count": 28,
   "metadata": {},
   "outputs": [
    {
     "data": {
      "text/plain": [
       "31044     397961\n",
       "32912     308071\n",
       "33046     308662\n",
       "33488     170889\n",
       "36492     390394\n",
       "           ...  \n",
       "137121    256827\n",
       "137545    567595\n",
       "137613    116615\n",
       "138379    401760\n",
       "141567    463812\n",
       "Name: id, Length: 86, dtype: int64"
      ]
     },
     "execution_count": 28,
     "metadata": {},
     "output_type": "execute_result"
    }
   ],
   "source": [
    "# Get the Id's of Restaurant that Have Null values\n",
    "Null_Restaurant_id = Restaurant[Restaurant[\"name\"].isnull()][\"id\"]\n",
    "Null_Restaurant_id"
   ]
  },
  {
   "cell_type": "code",
   "execution_count": 29,
   "metadata": {},
   "outputs": [
    {
     "data": {
      "text/plain": [
       "86"
      ]
     },
     "execution_count": 29,
     "metadata": {},
     "output_type": "execute_result"
    }
   ],
   "source": [
    "#Count of Null Values\n",
    "Count_of_Null_Rest = len(Null_Restaurant_id)\n",
    "Count_of_Null_Rest"
   ]
  },
  {
   "cell_type": "code",
   "execution_count": 30,
   "metadata": {},
   "outputs": [
    {
     "data": {
      "text/html": [
       "<div>\n",
       "<style scoped>\n",
       "    .dataframe tbody tr th:only-of-type {\n",
       "        vertical-align: middle;\n",
       "    }\n",
       "\n",
       "    .dataframe tbody tr th {\n",
       "        vertical-align: top;\n",
       "    }\n",
       "\n",
       "    .dataframe thead th {\n",
       "        text-align: right;\n",
       "    }\n",
       "</style>\n",
       "<table border=\"1\" class=\"dataframe\">\n",
       "  <thead>\n",
       "    <tr style=\"text-align: right;\">\n",
       "      <th></th>\n",
       "      <th>order_date</th>\n",
       "      <th>sales_qty</th>\n",
       "      <th>sales_amount</th>\n",
       "      <th>currency</th>\n",
       "      <th>user_id</th>\n",
       "      <th>r_id</th>\n",
       "    </tr>\n",
       "  </thead>\n",
       "  <tbody>\n",
       "    <tr>\n",
       "      <th>31044</th>\n",
       "      <td>2019-11-12</td>\n",
       "      <td>1</td>\n",
       "      <td>79</td>\n",
       "      <td>INR</td>\n",
       "      <td>76969</td>\n",
       "      <td>397961.0</td>\n",
       "    </tr>\n",
       "    <tr>\n",
       "      <th>32912</th>\n",
       "      <td>2020-01-13</td>\n",
       "      <td>1</td>\n",
       "      <td>65</td>\n",
       "      <td>INR</td>\n",
       "      <td>66468</td>\n",
       "      <td>308071.0</td>\n",
       "    </tr>\n",
       "    <tr>\n",
       "      <th>33046</th>\n",
       "      <td>2020-05-28</td>\n",
       "      <td>2</td>\n",
       "      <td>431</td>\n",
       "      <td>INR</td>\n",
       "      <td>81350</td>\n",
       "      <td>308662.0</td>\n",
       "    </tr>\n",
       "    <tr>\n",
       "      <th>33488</th>\n",
       "      <td>2018-05-02</td>\n",
       "      <td>2</td>\n",
       "      <td>463</td>\n",
       "      <td>INR</td>\n",
       "      <td>76025</td>\n",
       "      <td>170889.0</td>\n",
       "    </tr>\n",
       "    <tr>\n",
       "      <th>36492</th>\n",
       "      <td>2018-11-16</td>\n",
       "      <td>1</td>\n",
       "      <td>46</td>\n",
       "      <td>INR</td>\n",
       "      <td>49014</td>\n",
       "      <td>390394.0</td>\n",
       "    </tr>\n",
       "  </tbody>\n",
       "</table>\n",
       "</div>"
      ],
      "text/plain": [
       "      order_date  sales_qty  sales_amount currency  user_id      r_id\n",
       "31044 2019-11-12          1            79      INR    76969  397961.0\n",
       "32912 2020-01-13          1            65      INR    66468  308071.0\n",
       "33046 2020-05-28          2           431      INR    81350  308662.0\n",
       "33488 2018-05-02          2           463      INR    76025  170889.0\n",
       "36492 2018-11-16          1            46      INR    49014  390394.0"
      ]
     },
     "execution_count": 30,
     "metadata": {},
     "output_type": "execute_result"
    }
   ],
   "source": [
    "# Get the Details of the Orders Table where the Restaurant IDs have Null values.\n",
    "Orders[Orders[\"r_id\"].isin(Null_Restaurant_id)].head()"
   ]
  },
  {
   "cell_type": "code",
   "execution_count": null,
   "metadata": {},
   "outputs": [],
   "source": [
    "# There is No relationship Betweent the Null Values of R_Id in Orders Table and Restaurant Table"
   ]
  },
  {
   "cell_type": "code",
   "execution_count": 33,
   "metadata": {},
   "outputs": [
    {
     "data": {
      "text/plain": [
       "0.05789686279789955"
      ]
     },
     "execution_count": 33,
     "metadata": {},
     "output_type": "execute_result"
    }
   ],
   "source": [
    "# Calculat the Percentage of Null Values in Restaurant Table\n",
    "Cnt_Null_Percent = (Count_of_Null_Rest / len(Restaurant) ) * 100\n",
    "Cnt_Null_Percent"
   ]
  },
  {
   "cell_type": "code",
   "execution_count": null,
   "metadata": {},
   "outputs": [],
   "source": [
    "# Null Values are 0.05 Percent of total Restaurant Values\n",
    "# We Can Drop these Null Values"
   ]
  },
  {
   "cell_type": "code",
   "execution_count": 34,
   "metadata": {},
   "outputs": [],
   "source": [
    "# Remove The Null Values from the Restaurant Dataset\n",
    "Restaurant.dropna(subset=\"name\",inplace=True)"
   ]
  },
  {
   "cell_type": "code",
   "execution_count": 35,
   "metadata": {},
   "outputs": [
    {
     "data": {
      "text/plain": [
       "148454"
      ]
     },
     "execution_count": 35,
     "metadata": {},
     "output_type": "execute_result"
    }
   ],
   "source": [
    "# After Droping Null Values, Count the Entries in The Restaurant Table\n",
    "len(Restaurant)"
   ]
  },
  {
   "cell_type": "code",
   "execution_count": null,
   "metadata": {},
   "outputs": [],
   "source": [
    "# Before there was 148540 Rows\n",
    "# Now it is 148454 Rows"
   ]
  },
  {
   "cell_type": "code",
   "execution_count": 36,
   "metadata": {},
   "outputs": [
    {
     "data": {
      "text/plain": [
       "id               0\n",
       "name             0\n",
       "Country          0\n",
       "city             0\n",
       "rating           0\n",
       "rating_count     0\n",
       "cuisine         13\n",
       "link             0\n",
       "address          0\n",
       "dtype: int64"
      ]
     },
     "execution_count": 36,
     "metadata": {},
     "output_type": "execute_result"
    }
   ],
   "source": [
    "# Re-Analyse the Null Values in Restaurant Table\n",
    "Restaurant.isnull().sum()\n",
    "# Still Cuisine Have 13 Null Values"
   ]
  },
  {
   "cell_type": "code",
   "execution_count": 37,
   "metadata": {},
   "outputs": [
    {
     "data": {
      "text/html": [
       "<div>\n",
       "<style scoped>\n",
       "    .dataframe tbody tr th:only-of-type {\n",
       "        vertical-align: middle;\n",
       "    }\n",
       "\n",
       "    .dataframe tbody tr th {\n",
       "        vertical-align: top;\n",
       "    }\n",
       "\n",
       "    .dataframe thead th {\n",
       "        text-align: right;\n",
       "    }\n",
       "</style>\n",
       "<table border=\"1\" class=\"dataframe\">\n",
       "  <thead>\n",
       "    <tr style=\"text-align: right;\">\n",
       "      <th></th>\n",
       "      <th>id</th>\n",
       "      <th>name</th>\n",
       "      <th>Country</th>\n",
       "      <th>city</th>\n",
       "      <th>rating</th>\n",
       "      <th>rating_count</th>\n",
       "      <th>cuisine</th>\n",
       "      <th>link</th>\n",
       "      <th>address</th>\n",
       "    </tr>\n",
       "  </thead>\n",
       "  <tbody>\n",
       "    <tr>\n",
       "      <th>47768</th>\n",
       "      <td>155151</td>\n",
       "      <td>Pocket Plates By Abongchiiz</td>\n",
       "      <td>India</td>\n",
       "      <td>GTB Nagar,Delhi</td>\n",
       "      <td>--</td>\n",
       "      <td>Too Few Ratings</td>\n",
       "      <td>NaN</td>\n",
       "      <td>https://www.swiggy.com/restaurants/pocket-plat...</td>\n",
       "      <td>Pocket Plates By Abongchiiz, SHOP NO-15 DDA MA...</td>\n",
       "    </tr>\n",
       "    <tr>\n",
       "      <th>51698</th>\n",
       "      <td>245476</td>\n",
       "      <td>NEW YORK WAFFLES &amp; DINGES</td>\n",
       "      <td>India</td>\n",
       "      <td>Greater Kailash 2,Delhi</td>\n",
       "      <td>--</td>\n",
       "      <td>Too Few Ratings</td>\n",
       "      <td>NaN</td>\n",
       "      <td>https://www.swiggy.com/restaurants/new-york-wa...</td>\n",
       "      <td>NEW YORK WAFFLES &amp; DINGES, A 6 KAILASH COLONY,...</td>\n",
       "    </tr>\n",
       "    <tr>\n",
       "      <th>52218</th>\n",
       "      <td>62718</td>\n",
       "      <td>34 Chowringhee Lane</td>\n",
       "      <td>India</td>\n",
       "      <td>Ashok Vihar,Delhi</td>\n",
       "      <td>3.6</td>\n",
       "      <td>100+ ratings</td>\n",
       "      <td>NaN</td>\n",
       "      <td>https://www.swiggy.com/restaurants/34-chowring...</td>\n",
       "      <td>34 Chowringhee Lane, Shop no. 2, Phase 1, J bl...</td>\n",
       "    </tr>\n",
       "    <tr>\n",
       "      <th>52515</th>\n",
       "      <td>349965</td>\n",
       "      <td>TRP-Tandoor Roll Paratha</td>\n",
       "      <td>India</td>\n",
       "      <td>South Extension,Delhi</td>\n",
       "      <td>--</td>\n",
       "      <td>Too Few Ratings</td>\n",
       "      <td>NaN</td>\n",
       "      <td>https://www.swiggy.com/restaurants/trp-tandoor...</td>\n",
       "      <td>TRP-Tandoor Roll Paratha, D-59, Panchsheel Enc...</td>\n",
       "    </tr>\n",
       "    <tr>\n",
       "      <th>57165</th>\n",
       "      <td>319007</td>\n",
       "      <td>Kathi Roll Point</td>\n",
       "      <td>India</td>\n",
       "      <td>Lajpat Nagar,Delhi</td>\n",
       "      <td>--</td>\n",
       "      <td>Too Few Ratings</td>\n",
       "      <td>NaN</td>\n",
       "      <td>https://www.swiggy.com/restaurants/kathi-roll-...</td>\n",
       "      <td>Kathi Roll Point, SHOP NO.42,NEHRU NAGAR NEW D...</td>\n",
       "    </tr>\n",
       "  </tbody>\n",
       "</table>\n",
       "</div>"
      ],
      "text/plain": [
       "           id                         name Country                     city  \\\n",
       "47768  155151  Pocket Plates By Abongchiiz   India          GTB Nagar,Delhi   \n",
       "51698  245476    NEW YORK WAFFLES & DINGES   India  Greater Kailash 2,Delhi   \n",
       "52218   62718          34 Chowringhee Lane   India        Ashok Vihar,Delhi   \n",
       "52515  349965     TRP-Tandoor Roll Paratha   India    South Extension,Delhi   \n",
       "57165  319007             Kathi Roll Point   India       Lajpat Nagar,Delhi   \n",
       "\n",
       "      rating     rating_count cuisine  \\\n",
       "47768     --  Too Few Ratings     NaN   \n",
       "51698     --  Too Few Ratings     NaN   \n",
       "52218    3.6     100+ ratings     NaN   \n",
       "52515     --  Too Few Ratings     NaN   \n",
       "57165     --  Too Few Ratings     NaN   \n",
       "\n",
       "                                                    link  \\\n",
       "47768  https://www.swiggy.com/restaurants/pocket-plat...   \n",
       "51698  https://www.swiggy.com/restaurants/new-york-wa...   \n",
       "52218  https://www.swiggy.com/restaurants/34-chowring...   \n",
       "52515  https://www.swiggy.com/restaurants/trp-tandoor...   \n",
       "57165  https://www.swiggy.com/restaurants/kathi-roll-...   \n",
       "\n",
       "                                                 address  \n",
       "47768  Pocket Plates By Abongchiiz, SHOP NO-15 DDA MA...  \n",
       "51698  NEW YORK WAFFLES & DINGES, A 6 KAILASH COLONY,...  \n",
       "52218  34 Chowringhee Lane, Shop no. 2, Phase 1, J bl...  \n",
       "52515  TRP-Tandoor Roll Paratha, D-59, Panchsheel Enc...  \n",
       "57165  Kathi Roll Point, SHOP NO.42,NEHRU NAGAR NEW D...  "
      ]
     },
     "execution_count": 37,
     "metadata": {},
     "output_type": "execute_result"
    }
   ],
   "source": [
    "# Print the Null Values in Restaurant's \"Cuisine\" Column\n",
    "Restaurant[Restaurant[\"cuisine\"].isnull()].head()"
   ]
  },
  {
   "cell_type": "code",
   "execution_count": 38,
   "metadata": {},
   "outputs": [
    {
     "data": {
      "text/plain": [
       "2132"
      ]
     },
     "execution_count": 38,
     "metadata": {},
     "output_type": "execute_result"
    }
   ],
   "source": [
    "# Analyse the Number of Unique Values in \"Cuisine\" Column\n",
    "Restaurant[\"cuisine\"].nunique()"
   ]
  },
  {
   "cell_type": "code",
   "execution_count": 39,
   "metadata": {},
   "outputs": [
    {
     "data": {
      "text/plain": [
       "0    North Indian,Chinese\n",
       "Name: cuisine, dtype: object"
      ]
     },
     "execution_count": 39,
     "metadata": {},
     "output_type": "execute_result"
    }
   ],
   "source": [
    "# Print the Most Repeated \"Cuisine\" Value using Mode Function.\n",
    "Most_Repeated_Cuisine = Restaurant[\"cuisine\"].mode()\n",
    "Most_Repeated_Cuisine\n",
    "# Most Repeated Cuisine is \"North Indian & Chinese\""
   ]
  },
  {
   "cell_type": "code",
   "execution_count": 40,
   "metadata": {},
   "outputs": [
    {
     "data": {
      "text/plain": [
       "6471"
      ]
     },
     "execution_count": 40,
     "metadata": {},
     "output_type": "execute_result"
    }
   ],
   "source": [
    "# Analyse the Number of Values which Have Most Repeated Cuisine.\n",
    "len(Restaurant[Restaurant[\"cuisine\"].isin(Most_Repeated_Cuisine ) ])"
   ]
  },
  {
   "cell_type": "code",
   "execution_count": null,
   "metadata": {},
   "outputs": [],
   "source": [
    "# Almost 6471 Restaurant have \"North Indian & Chinese\" Cuisine"
   ]
  },
  {
   "cell_type": "code",
   "execution_count": 41,
   "metadata": {},
   "outputs": [
    {
     "data": {
      "text/plain": [
       "'North Indian,Chinese'"
      ]
     },
     "execution_count": 41,
     "metadata": {},
     "output_type": "execute_result"
    }
   ],
   "source": [
    "Most_Repeated_Cuisine[0]"
   ]
  },
  {
   "cell_type": "code",
   "execution_count": 42,
   "metadata": {},
   "outputs": [
    {
     "name": "stderr",
     "output_type": "stream",
     "text": [
      "C:\\Users\\busin\\AppData\\Local\\Temp\\ipykernel_12116\\1424174435.py:2: FutureWarning: A value is trying to be set on a copy of a DataFrame or Series through chained assignment using an inplace method.\n",
      "The behavior will change in pandas 3.0. This inplace method will never work because the intermediate object on which we are setting values always behaves as a copy.\n",
      "\n",
      "For example, when doing 'df[col].method(value, inplace=True)', try using 'df.method({col: value}, inplace=True)' or df[col] = df[col].method(value) instead, to perform the operation inplace on the original object.\n",
      "\n",
      "\n",
      "  Restaurant[\"cuisine\"].fillna(Most_Repeated_Cuisine[0], inplace=True)\n"
     ]
    }
   ],
   "source": [
    "# impute the Null Values with \"North Indian & Chinese\"\n",
    "Restaurant[\"cuisine\"].fillna(Most_Repeated_Cuisine[0], inplace=True)"
   ]
  },
  {
   "cell_type": "code",
   "execution_count": 43,
   "metadata": {},
   "outputs": [
    {
     "data": {
      "text/html": [
       "<div>\n",
       "<style scoped>\n",
       "    .dataframe tbody tr th:only-of-type {\n",
       "        vertical-align: middle;\n",
       "    }\n",
       "\n",
       "    .dataframe tbody tr th {\n",
       "        vertical-align: top;\n",
       "    }\n",
       "\n",
       "    .dataframe thead th {\n",
       "        text-align: right;\n",
       "    }\n",
       "</style>\n",
       "<table border=\"1\" class=\"dataframe\">\n",
       "  <thead>\n",
       "    <tr style=\"text-align: right;\">\n",
       "      <th></th>\n",
       "      <th>id</th>\n",
       "      <th>name</th>\n",
       "      <th>Country</th>\n",
       "      <th>city</th>\n",
       "      <th>rating</th>\n",
       "      <th>rating_count</th>\n",
       "      <th>cuisine</th>\n",
       "      <th>link</th>\n",
       "      <th>address</th>\n",
       "    </tr>\n",
       "  </thead>\n",
       "  <tbody>\n",
       "    <tr>\n",
       "      <th>47768</th>\n",
       "      <td>155151</td>\n",
       "      <td>Pocket Plates By Abongchiiz</td>\n",
       "      <td>India</td>\n",
       "      <td>GTB Nagar,Delhi</td>\n",
       "      <td>--</td>\n",
       "      <td>Too Few Ratings</td>\n",
       "      <td>North Indian,Chinese</td>\n",
       "      <td>https://www.swiggy.com/restaurants/pocket-plat...</td>\n",
       "      <td>Pocket Plates By Abongchiiz, SHOP NO-15 DDA MA...</td>\n",
       "    </tr>\n",
       "  </tbody>\n",
       "</table>\n",
       "</div>"
      ],
      "text/plain": [
       "           id                         name Country             city rating  \\\n",
       "47768  155151  Pocket Plates By Abongchiiz   India  GTB Nagar,Delhi     --   \n",
       "\n",
       "          rating_count               cuisine  \\\n",
       "47768  Too Few Ratings  North Indian,Chinese   \n",
       "\n",
       "                                                    link  \\\n",
       "47768  https://www.swiggy.com/restaurants/pocket-plat...   \n",
       "\n",
       "                                                 address  \n",
       "47768  Pocket Plates By Abongchiiz, SHOP NO-15 DDA MA...  "
      ]
     },
     "execution_count": 43,
     "metadata": {},
     "output_type": "execute_result"
    }
   ],
   "source": [
    "# Check one of the Filled Value\n",
    "Restaurant[Restaurant[\"id\"] == 155151]"
   ]
  },
  {
   "cell_type": "code",
   "execution_count": 44,
   "metadata": {},
   "outputs": [
    {
     "data": {
      "text/plain": [
       "id              0\n",
       "name            0\n",
       "Country         0\n",
       "city            0\n",
       "rating          0\n",
       "rating_count    0\n",
       "cuisine         0\n",
       "link            0\n",
       "address         0\n",
       "dtype: int64"
      ]
     },
     "execution_count": 44,
     "metadata": {},
     "output_type": "execute_result"
    }
   ],
   "source": [
    "# Re-Analuse the Null Values in Restaurant Table\n",
    "Restaurant.isnull().sum()"
   ]
  },
  {
   "cell_type": "code",
   "execution_count": null,
   "metadata": {},
   "outputs": [],
   "source": [
    "# Now Restaurant Table have No Null Values"
   ]
  },
  {
   "cell_type": "code",
   "execution_count": 45,
   "metadata": {},
   "outputs": [
    {
     "data": {
      "text/plain": [
       "Order_Id    0\n",
       "Type        0\n",
       "dtype: int64"
      ]
     },
     "execution_count": 45,
     "metadata": {},
     "output_type": "execute_result"
    }
   ],
   "source": [
    "# Analyse the Null Values in Orders_Type Table\n",
    "Orders_Type.isnull().sum()"
   ]
  },
  {
   "cell_type": "code",
   "execution_count": null,
   "metadata": {},
   "outputs": [],
   "source": [
    "# No Null Values in the Orders Table"
   ]
  },
  {
   "cell_type": "code",
   "execution_count": 46,
   "metadata": {},
   "outputs": [
    {
     "data": {
      "text/plain": [
       "user_id           0\n",
       "name              0\n",
       "Age               0\n",
       "Gender            0\n",
       "Marital Status    0\n",
       "Occupation        0\n",
       "dtype: int64"
      ]
     },
     "execution_count": 46,
     "metadata": {},
     "output_type": "execute_result"
    }
   ],
   "source": [
    "# Analyse the Null Values in Users Table\n",
    "Users.isnull().sum()"
   ]
  },
  {
   "cell_type": "code",
   "execution_count": null,
   "metadata": {},
   "outputs": [],
   "source": [
    "# No Null Values in the Users Table"
   ]
  },
  {
   "cell_type": "markdown",
   "metadata": {},
   "source": [
    "# Formating the Tables"
   ]
  },
  {
   "cell_type": "code",
   "execution_count": 54,
   "metadata": {},
   "outputs": [],
   "source": [
    "# Rename Columns"
   ]
  },
  {
   "cell_type": "code",
   "execution_count": 64,
   "metadata": {},
   "outputs": [
    {
     "data": {
      "text/plain": [
       "Index(['f_id', 'item', 'veg_or_non_veg'], dtype='object')"
      ]
     },
     "execution_count": 64,
     "metadata": {},
     "output_type": "execute_result"
    }
   ],
   "source": [
    "# Print the Columns of Food Table\n",
    "Food.columns"
   ]
  },
  {
   "cell_type": "code",
   "execution_count": 79,
   "metadata": {},
   "outputs": [
    {
     "data": {
      "text/plain": [
       "Index(['Food_id', 'Item', 'Food_Type'], dtype='object')"
      ]
     },
     "execution_count": 79,
     "metadata": {},
     "output_type": "execute_result"
    }
   ],
   "source": [
    "# Rename the Columns in Food Table.\n",
    "Food.rename(columns={\"f_id\":\"Food_id\",\"veg_or_non_veg\":\"Food_Type\",\"item\":\"Item\"},inplace=True)\n",
    "Food.columns"
   ]
  },
  {
   "cell_type": "code",
   "execution_count": 63,
   "metadata": {},
   "outputs": [
    {
     "data": {
      "text/plain": [
       "Index(['menu_id', 'r_id', 'f_id', 'cuisine', 'price'], dtype='object')"
      ]
     },
     "execution_count": 63,
     "metadata": {},
     "output_type": "execute_result"
    }
   ],
   "source": [
    "# Print the Columns of Menu Table\n",
    "Menu.columns"
   ]
  },
  {
   "cell_type": "code",
   "execution_count": 80,
   "metadata": {},
   "outputs": [
    {
     "data": {
      "text/plain": [
       "Index(['Menu_id', 'Restaurant_id', 'Food_id', 'Cuisine', 'Price'], dtype='object')"
      ]
     },
     "execution_count": 80,
     "metadata": {},
     "output_type": "execute_result"
    }
   ],
   "source": [
    "# Rename the Columns in Menu Table.\n",
    "Menu.rename(columns={\"menu_id\":\"Menu_id\",\"r_id\":\"Restaurant_id\",\n",
    "                     \"f_id\":\"Food_id\",\"cuisine\":\"Cuisine\",\"price\":\"Price\"}, inplace=True)\n",
    "Menu.columns # Print New Columns's Name"
   ]
  },
  {
   "cell_type": "code",
   "execution_count": 62,
   "metadata": {},
   "outputs": [
    {
     "data": {
      "text/plain": [
       "Index(['order_date', 'sales_qty', 'sales_amount', 'currency', 'user_id',\n",
       "       'r_id'],\n",
       "      dtype='object')"
      ]
     },
     "execution_count": 62,
     "metadata": {},
     "output_type": "execute_result"
    }
   ],
   "source": [
    "# Print the Columns of Orders Table\n",
    "Orders.columns"
   ]
  },
  {
   "cell_type": "code",
   "execution_count": 81,
   "metadata": {},
   "outputs": [
    {
     "data": {
      "text/plain": [
       "Index(['order_date', 'Sales_QTY', 'Sales_amount', 'currency', 'User_id',\n",
       "       'Restaurant_id'],\n",
       "      dtype='object')"
      ]
     },
     "execution_count": 81,
     "metadata": {},
     "output_type": "execute_result"
    }
   ],
   "source": [
    "# Rename the Columns in Orders Table.\n",
    "Orders.rename(columns={\"order_Date\":\"Order_date\",\"sales_qty\":\"Sales_QTY\",\"sales_amount\":\"Sales_amount\",\n",
    "                       \"Currency\":\"Currency\",\"user_id\":\"User_id\",\"r_id\":\"Restaurant_id\"}, inplace=True)\n",
    "Orders.columns # Print New Columns's Name"
   ]
  },
  {
   "cell_type": "code",
   "execution_count": 72,
   "metadata": {},
   "outputs": [
    {
     "data": {
      "text/plain": [
       "Index(['id', 'name', 'Country', 'city', 'rating', 'rating_count', 'cuisine',\n",
       "       'link', 'address'],\n",
       "      dtype='object')"
      ]
     },
     "execution_count": 72,
     "metadata": {},
     "output_type": "execute_result"
    }
   ],
   "source": [
    "# Print the Columns of Restaurant Table\n",
    "Restaurant.columns"
   ]
  },
  {
   "cell_type": "code",
   "execution_count": 84,
   "metadata": {},
   "outputs": [
    {
     "data": {
      "text/plain": [
       "Index(['Restaurant_id', 'Name', 'Country', 'City', 'Rating', 'Rating_count',\n",
       "       'Cuisine', 'Link', 'Address'],\n",
       "      dtype='object')"
      ]
     },
     "execution_count": 84,
     "metadata": {},
     "output_type": "execute_result"
    }
   ],
   "source": [
    "# Rename the Columns in Restaurant Table.\n",
    "Restaurant.rename(columns={\"id\":\"Restaurant_id\",\"name\":\"Name\",\"city\":\"City\",\n",
    "                           \"rating\":\"Rating\",\"rating_count\":\"Rating_count\",\"cuisine\":\"Cuisine\",\"link\":\"Link\",\"address\":\"Address\"},\n",
    "                           inplace=True)\n",
    "Restaurant.columns # Print New Columns's Name"
   ]
  },
  {
   "cell_type": "code",
   "execution_count": 74,
   "metadata": {},
   "outputs": [
    {
     "data": {
      "text/plain": [
       "Index(['user_id', 'name', 'Age', 'Gender', 'Marital Status', 'Occupation'], dtype='object')"
      ]
     },
     "execution_count": 74,
     "metadata": {},
     "output_type": "execute_result"
    }
   ],
   "source": [
    "# Print the Columns of Users Table\n",
    "Users.columns"
   ]
  },
  {
   "cell_type": "code",
   "execution_count": 85,
   "metadata": {},
   "outputs": [
    {
     "data": {
      "text/plain": [
       "Index(['User_id', 'Name', 'Age', 'Gender', 'Marital Status', 'Occupation'], dtype='object')"
      ]
     },
     "execution_count": 85,
     "metadata": {},
     "output_type": "execute_result"
    }
   ],
   "source": [
    "# Rename the Columns in Restaurant Table.\n",
    "Users.rename(columns={\"user_id\":\"User_id\",\"name\":\"Name\"}, inplace=True)\n",
    "Users.columns # Print New Columns's Name"
   ]
  },
  {
   "cell_type": "markdown",
   "metadata": {},
   "source": [
    "Drop Unnecessary Columns and Tables."
   ]
  },
  {
   "cell_type": "code",
   "execution_count": 87,
   "metadata": {},
   "outputs": [],
   "source": [
    "# Drop the Un_neccesary column from the restaurant table\n",
    "Restaurant.drop(columns=[\"Link\",\"Address\"], axis=1, inplace=True)"
   ]
  },
  {
   "cell_type": "code",
   "execution_count": 89,
   "metadata": {},
   "outputs": [
    {
     "data": {
      "text/html": [
       "<div>\n",
       "<style scoped>\n",
       "    .dataframe tbody tr th:only-of-type {\n",
       "        vertical-align: middle;\n",
       "    }\n",
       "\n",
       "    .dataframe tbody tr th {\n",
       "        vertical-align: top;\n",
       "    }\n",
       "\n",
       "    .dataframe thead th {\n",
       "        text-align: right;\n",
       "    }\n",
       "</style>\n",
       "<table border=\"1\" class=\"dataframe\">\n",
       "  <thead>\n",
       "    <tr style=\"text-align: right;\">\n",
       "      <th></th>\n",
       "      <th>Restaurant_id</th>\n",
       "      <th>Name</th>\n",
       "      <th>Country</th>\n",
       "      <th>City</th>\n",
       "      <th>Rating</th>\n",
       "      <th>Rating_count</th>\n",
       "      <th>Cuisine</th>\n",
       "    </tr>\n",
       "  </thead>\n",
       "  <tbody>\n",
       "    <tr>\n",
       "      <th>0</th>\n",
       "      <td>567335</td>\n",
       "      <td>AB FOODS POINT</td>\n",
       "      <td>India</td>\n",
       "      <td>Abohar</td>\n",
       "      <td>--</td>\n",
       "      <td>Too Few Ratings</td>\n",
       "      <td>Beverages,Pizzas</td>\n",
       "    </tr>\n",
       "    <tr>\n",
       "      <th>1</th>\n",
       "      <td>531342</td>\n",
       "      <td>Janta Sweet House</td>\n",
       "      <td>India</td>\n",
       "      <td>Abohar</td>\n",
       "      <td>4.4</td>\n",
       "      <td>50+ ratings</td>\n",
       "      <td>Sweets,Bakery</td>\n",
       "    </tr>\n",
       "  </tbody>\n",
       "</table>\n",
       "</div>"
      ],
      "text/plain": [
       "   Restaurant_id               Name Country    City Rating     Rating_count  \\\n",
       "0         567335     AB FOODS POINT   India  Abohar     --  Too Few Ratings   \n",
       "1         531342  Janta Sweet House   India  Abohar    4.4      50+ ratings   \n",
       "\n",
       "            Cuisine  \n",
       "0  Beverages,Pizzas  \n",
       "1     Sweets,Bakery  "
      ]
     },
     "execution_count": 89,
     "metadata": {},
     "output_type": "execute_result"
    }
   ],
   "source": [
    "Restaurant.head(2)"
   ]
  },
  {
   "cell_type": "code",
   "execution_count": 90,
   "metadata": {},
   "outputs": [],
   "source": [
    "# Delete the Orders_type Table 's DataFrame\n",
    "del Orders_Type"
   ]
  },
  {
   "cell_type": "code",
   "execution_count": 92,
   "metadata": {},
   "outputs": [],
   "source": [
    "# Delete the Orders_Type file from the system\n",
    "import os\n",
    "path = \"D:\\DA\\Projects\\Swiggy\\Raw Dataset\\orders_type.xlsx\"\n",
    "try:\n",
    "    os.remove(path)\n",
    "except Exception as e:\n",
    "    print(e) "
   ]
  },
  {
   "cell_type": "markdown",
   "metadata": {},
   "source": [
    "# Store the Dataset into the System"
   ]
  },
  {
   "cell_type": "code",
   "execution_count": 103,
   "metadata": {},
   "outputs": [],
   "source": [
    "# Store the Cleaned and Processed Data into the System.\n",
    "Food.to_csv(r\"D:\\DA\\Projects\\Swiggy\\Proccesed Data (Python)\\Food.csv\", index=False)\n",
    "Menu.to_csv(r\"D:\\DA\\Projects\\Swiggy\\Proccesed Data (Python)\\Menu.csv\", index=False)\n",
    "Orders.to_csv(r\"D:\\DA\\Projects\\Swiggy\\Proccesed Data (Python)\\Orders.csv\", index=False)\n",
    "Restaurant.to_csv(r\"D:\\DA\\Projects\\Swiggy\\Proccesed Data (Python)\\Restaurant.csv\", index=False)\n",
    "Users.to_csv(r\"D:\\DA\\Projects\\Swiggy\\Proccesed Data (Python)\\Users.csv\", index=False)"
   ]
  },
  {
   "cell_type": "markdown",
   "metadata": {},
   "source": [
    "#                                  Thank You"
   ]
  }
 ],
 "metadata": {
  "kernelspec": {
   "display_name": ".env",
   "language": "python",
   "name": "python3"
  },
  "language_info": {
   "codemirror_mode": {
    "name": "ipython",
    "version": 3
   },
   "file_extension": ".py",
   "mimetype": "text/x-python",
   "name": "python",
   "nbconvert_exporter": "python",
   "pygments_lexer": "ipython3",
   "version": "3.11.9"
  }
 },
 "nbformat": 4,
 "nbformat_minor": 2
}
